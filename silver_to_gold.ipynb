{
 "cells": [
  {
   "cell_type": "code",
   "execution_count": 0,
   "metadata": {
    "application/vnd.databricks.v1+cell": {
     "cellMetadata": {},
     "inputWidgets": {},
     "nuid": "5104f200-f33b-4ea5-a038-7bcd6dcb2006",
     "showTitle": false,
     "tableResultSettingsMap": {},
     "title": ""
    }
   },
   "outputs": [],
   "source": [
    "import dlt\n",
    "from pyspark.sql import functions as F\n",
    "from pyspark.sql.window import Window\n",
    "\n",
    "@dlt.table(\n",
    "    comment=\"Gold table driven by config table - config_silver_to_gold table\"\n",
    ")\n",
    "def gold_table():\n",
    "    # Read Silver table\n",
    "    df = dlt.read(\"silver_table\")\n",
    "\n",
    "    # Drop null customerId\n",
    "    df = df.filter(F.col(\"customerId\").isNotNull())\n",
    "\n",
    "    # Read column config table and filter active columns\n",
    "    cfg = dlt.read(\"`unity-veersa`.config_tables.config_silver_to_gold\").filter(F.col(\"is_active\") == True)\n",
    "\n",
    "    # Select only active columns from Silver and apply aliases\n",
    "    select_exprs = [F.col(c[\"column_name\"]).alias(c[\"alias_name\"]) for c in cfg.collect()]\n",
    "    df = df.select(*select_exprs)\n",
    "\n",
    "    # Deduplicate: keep latest per customerId\n",
    "    window_spec = Window.partitionBy(\"customerId\").orderBy(F.col(\"ingest_ts\").desc())\n",
    "    df = df.withColumn(\"row_num\", F.row_number().over(window_spec)) \\\n",
    "           .filter(F.col(\"row_num\") == 1) \\\n",
    "           .drop(\"row_num\")\n",
    "\n",
    "    # Create derived columns\n",
    "    df = df.withColumn(\n",
    "        \"address\",\n",
    "        F.concat_ws(\", \", F.col(\"city\"), F.col(\"state\"), F.col(\"zip_prefix\"))\n",
    "    ).withColumn(\n",
    "        \"zip_first_digit\", F.substring(F.col(\"zip_prefix\"), 1, 1)\n",
    "    ).withColumn(\n",
    "        \"region\",\n",
    "        F.when(F.col(\"zip_first_digit\").isin(\"0\",\"1\"), \"East\")\n",
    "         .when(F.col(\"zip_first_digit\").isin(\"2\",\"3\"), \"South\")\n",
    "         .when(F.col(\"zip_first_digit\").isin(\"4\",\"5\"), \"West\")\n",
    "         .when(F.col(\"zip_first_digit\").isin(\"6\",\"7\"), \"North\")\n",
    "         .otherwise(\"Central\")\n",
    "    ).withColumn(\n",
    "        \"record_source\", F.lit(\"silver_table\")\n",
    "    )\n",
    "\n",
    "    # Final selection: include all columns from config plus derived columns\n",
    "    derived_cols = [\"address\", \"region\"]\n",
    "    df_gold = df.select(*[c[\"alias_name\"] for c in cfg.collect()] + derived_cols)\n",
    "\n",
    "    df_gold = df_gold.drop(\"city\", \"state\", \"zip_prefix\")\n",
    "\n",
    "    return df_gold\n"
   ]
  }
 ],
 "metadata": {
  "application/vnd.databricks.v1+notebook": {
   "computePreferences": null,
   "dashboards": [],
   "environmentMetadata": {
    "base_environment": "",
    "environment_version": "3"
   },
   "inputWidgetPreferences": null,
   "language": "python",
   "notebookMetadata": {
    "pythonIndentUnit": 4
   },
   "notebookName": "silver_to_gold",
   "widgets": {}
  },
  "language_info": {
   "name": "python"
  }
 },
 "nbformat": 4,
 "nbformat_minor": 0
}
