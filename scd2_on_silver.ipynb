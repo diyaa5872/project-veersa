{
 "cells": [
  {
   "cell_type": "code",
   "execution_count": 0,
   "metadata": {
    "application/vnd.databricks.v1+cell": {
     "cellMetadata": {},
     "inputWidgets": {},
     "nuid": "e9aaf64e-3a7a-43bb-8fe2-7bea20070036",
     "showTitle": false,
     "tableResultSettingsMap": {},
     "title": ""
    }
   },
   "outputs": [],
   "source": [
    "import dlt\n",
    "from pyspark.sql import functions as F\n",
    "\n",
    "# Create the streaming target table for SCD2\n",
    "\n",
    "@dlt.table(\n",
    "    comment=\"Silver table implementing SCD Type 2 on customer data\"\n",
    ")\n",
    "def silver_processing():\n",
    "    return (\n",
    "        spark.readStream.table(\"silver_table\")\n",
    "    )\n",
    "\n",
    "dlt.create_streaming_table(\n",
    "    name=\"silver_scd2\",\n",
    "    comment=\"Streaming target table for SCD Type 2\"\n",
    ")\n",
    "\n",
    "# Apply SCD2 changes using apply_changes API\n",
    "dlt.apply_changes(\n",
    "    target=\"silver_scd2\",        \n",
    "    source=\"silver_processing\",             \n",
    "    keys=[\"customerId\"],                   \n",
    "    sequence_by=F.col(\"ingest_ts\"),     \n",
    "    except_column_list=[],                 \n",
    "    stored_as_scd_type=2,                 \n",
    "    # track_history_column_list=[\"start_date\", \"end_date\", \"is_current\"]  # History columns\n",
    ")\n",
    "\n"
   ]
  }
 ],
 "metadata": {
  "application/vnd.databricks.v1+notebook": {
   "computePreferences": null,
   "dashboards": [],
   "environmentMetadata": {
    "base_environment": "",
    "environment_version": "3"
   },
   "inputWidgetPreferences": null,
   "language": "python",
   "notebookMetadata": {
    "pythonIndentUnit": 4
   },
   "notebookName": "scd2_on_silver",
   "widgets": {}
  },
  "language_info": {
   "name": "python"
  }
 },
 "nbformat": 4,
 "nbformat_minor": 0
}
